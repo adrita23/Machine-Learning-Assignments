{
  "nbformat": 4,
  "nbformat_minor": 0,
  "metadata": {
    "colab": {
      "name": "ML_Fall 21_HW1.ipynb",
      "provenance": [],
      "authorship_tag": "ABX9TyPvpem8ycocRIexN8vAiMj/",
      "include_colab_link": true
    },
    "kernelspec": {
      "name": "python3",
      "display_name": "Python 3"
    },
    "language_info": {
      "name": "python"
    }
  },
  "cells": [
    {
      "cell_type": "markdown",
      "metadata": {
        "id": "view-in-github",
        "colab_type": "text"
      },
      "source": [
        "<a href=\"https://colab.research.google.com/github/adrita23/Machine-Learning-Assignments/blob/main/ML_Fall_21_HW1.ipynb\" target=\"_parent\"><img src=\"https://colab.research.google.com/assets/colab-badge.svg\" alt=\"Open In Colab\"/></a>"
      ]
    },
    {
      "cell_type": "code",
      "metadata": {
        "id": "oEyM1vCNWsWf"
      },
      "source": [
        "#Fall 2021\n",
        "#ML 633: Machine Learning\n",
        "#Homework: 1 \n",
        "#Date: 22-09-2021\n",
        "#Author: Adrita Anika"
      ],
      "execution_count": null,
      "outputs": []
    },
    {
      "cell_type": "code",
      "metadata": {
        "id": "w9aIiNikZxUF"
      },
      "source": [
        "#Question 1 \n",
        "\n",
        "## part a: Data Exploration\n",
        "\n",
        "### a.i: Using the training data, compute the number of samples belonging to each class.  Are the classes equally distributed?\n"
      ],
      "execution_count": null,
      "outputs": []
    },
    {
      "cell_type": "markdown",
      "metadata": {
        "id": "6kNA0JGedm6v"
      },
      "source": [
        "Question 1: part a\n",
        "\n",
        "\n",
        "*   Mounting Drive\n",
        "*   Importing Data\n",
        "\n"
      ]
    },
    {
      "cell_type": "code",
      "metadata": {
        "id": "qjx83Zl9eHYE"
      },
      "source": [
        ""
      ],
      "execution_count": null,
      "outputs": []
    },
    {
      "cell_type": "code",
      "metadata": {
        "id": "6W2HsD7eeLRn"
      },
      "source": [
        "from google.colab import drive\n",
        "drive.mount('/content/drive')"
      ],
      "execution_count": null,
      "outputs": []
    }
  ]
}