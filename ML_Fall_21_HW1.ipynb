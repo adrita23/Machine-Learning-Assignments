{
  "nbformat": 4,
  "nbformat_minor": 0,
  "metadata": {
    "colab": {
      "name": "ML_Fall 21_HW1.ipynb",
      "provenance": [],
      "authorship_tag": "ABX9TyO0uEdzPJ/TwrCeAYGNaeSX",
      "include_colab_link": true
    },
    "kernelspec": {
      "name": "python3",
      "display_name": "Python 3"
    },
    "language_info": {
      "name": "python"
    }
  },
  "cells": [
    {
      "cell_type": "markdown",
      "metadata": {
        "id": "view-in-github",
        "colab_type": "text"
      },
      "source": [
        "<a href=\"https://colab.research.google.com/github/adrita23/Machine-Learning-Assignments/blob/main/ML_Fall_21_HW1.ipynb\" target=\"_parent\"><img src=\"https://colab.research.google.com/assets/colab-badge.svg\" alt=\"Open In Colab\"/></a>"
      ]
    },
    {
      "cell_type": "code",
      "metadata": {
        "id": "oEyM1vCNWsWf"
      },
      "source": [
        "#Fall 2021\n",
        "#ML 633: Machine Learning\n",
        "#Homework: 1 \n",
        "#Date: 22-09-2021\n",
        "#Author: Adrita Anika"
      ],
      "execution_count": null,
      "outputs": []
    },
    {
      "cell_type": "code",
      "metadata": {
        "id": "w9aIiNikZxUF"
      },
      "source": [
        "#Question 1 \n",
        "\n",
        "## part a: Data Exploration\n",
        "\n",
        "### a.i: Using the training data, compute the number of samples belonging to each class.  Are the classes equally distributed?\n"
      ],
      "execution_count": null,
      "outputs": []
    },
    {
      "cell_type": "markdown",
      "metadata": {
        "id": "6kNA0JGedm6v"
      },
      "source": [
        "Question 1: part a\n",
        "\n",
        "\n",
        "*   Mounting Drive\n",
        "*   Importing Data\n",
        "\n"
      ]
    },
    {
      "cell_type": "code",
      "metadata": {
        "colab": {
          "base_uri": "https://localhost:8080/"
        },
        "id": "6W2HsD7eeLRn",
        "outputId": "ce03375f-dbb5-49ed-8496-6c01e53f1ff4"
      },
      "source": [
        "from google.colab import drive\n",
        "drive.mount('/content/drive')"
      ],
      "execution_count": null,
      "outputs": [
        {
          "output_type": "stream",
          "name": "stdout",
          "text": [
            "Mounted at /content/drive\n"
          ]
        }
      ]
    },
    {
      "cell_type": "code",
      "metadata": {
        "id": "xUQoNGMPp5cp"
      },
      "source": [
        "import numpy as np\n",
        "import pandas as pd\n",
        "import matplotlib.pyplot as plt"
      ],
      "execution_count": null,
      "outputs": []
    },
    {
      "cell_type": "code",
      "metadata": {
        "id": "mwydoDBMp-iu"
      },
      "source": [
        "data = pd.read_csv('/content/drive/MyDrive/ML HW/data_train.csv', header=None) "
      ],
      "execution_count": null,
      "outputs": []
    },
    {
      "cell_type": "code",
      "metadata": {
        "colab": {
          "base_uri": "https://localhost:8080/",
          "height": 203
        },
        "id": "QU89HyHzqNX7",
        "outputId": "440b626c-c9f8-42ea-87dc-6a55e9cabde5"
      },
      "source": [
        "data.head()\n"
      ],
      "execution_count": null,
      "outputs": [
        {
          "output_type": "execute_result",
          "data": {
            "text/html": [
              "<div>\n",
              "<style scoped>\n",
              "    .dataframe tbody tr th:only-of-type {\n",
              "        vertical-align: middle;\n",
              "    }\n",
              "\n",
              "    .dataframe tbody tr th {\n",
              "        vertical-align: top;\n",
              "    }\n",
              "\n",
              "    .dataframe thead th {\n",
              "        text-align: right;\n",
              "    }\n",
              "</style>\n",
              "<table border=\"1\" class=\"dataframe\">\n",
              "  <thead>\n",
              "    <tr style=\"text-align: right;\">\n",
              "      <th></th>\n",
              "      <th>0</th>\n",
              "      <th>1</th>\n",
              "      <th>2</th>\n",
              "      <th>3</th>\n",
              "    </tr>\n",
              "  </thead>\n",
              "  <tbody>\n",
              "    <tr>\n",
              "      <th>0</th>\n",
              "      <td>38</td>\n",
              "      <td>66</td>\n",
              "      <td>0</td>\n",
              "      <td>1</td>\n",
              "    </tr>\n",
              "    <tr>\n",
              "      <th>1</th>\n",
              "      <td>38</td>\n",
              "      <td>66</td>\n",
              "      <td>11</td>\n",
              "      <td>1</td>\n",
              "    </tr>\n",
              "    <tr>\n",
              "      <th>2</th>\n",
              "      <td>38</td>\n",
              "      <td>60</td>\n",
              "      <td>1</td>\n",
              "      <td>1</td>\n",
              "    </tr>\n",
              "    <tr>\n",
              "      <th>3</th>\n",
              "      <td>38</td>\n",
              "      <td>67</td>\n",
              "      <td>5</td>\n",
              "      <td>1</td>\n",
              "    </tr>\n",
              "    <tr>\n",
              "      <th>4</th>\n",
              "      <td>39</td>\n",
              "      <td>66</td>\n",
              "      <td>0</td>\n",
              "      <td>2</td>\n",
              "    </tr>\n",
              "  </tbody>\n",
              "</table>\n",
              "</div>"
            ],
            "text/plain": [
              "    0   1   2  3\n",
              "0  38  66   0  1\n",
              "1  38  66  11  1\n",
              "2  38  60   1  1\n",
              "3  38  67   5  1\n",
              "4  39  66   0  2"
            ]
          },
          "metadata": {},
          "execution_count": 9
        }
      ]
    },
    {
      "cell_type": "code",
      "metadata": {
        "colab": {
          "base_uri": "https://localhost:8080/"
        },
        "id": "IdN0qWdernjf",
        "outputId": "b94ec3b1-3933-4194-da41-35c5ea37ce56"
      },
      "source": [
        "#a.i : compute the number of samples belonging to each class\n",
        "\n",
        "no_of_samples = data.loc[:,3].value_counts()\n",
        "\n",
        "print(\"The number of samples for class- 1 is \", no_of_samples[1])\n",
        "print(\"The number of samples for class- 2 is \", no_of_samples[2])"
      ],
      "execution_count": null,
      "outputs": [
        {
          "output_type": "stream",
          "name": "stdout",
          "text": [
            "The number of samples for class- 1 is  173\n",
            "The number of samples for class- 2 is  72\n"
          ]
        }
      ]
    },
    {
      "cell_type": "markdown",
      "metadata": {
        "id": "4Dryr3Ubu2jS"
      },
      "source": [
        "a.i : The classes are not equally distributed"
      ]
    },
    {
      "cell_type": "code",
      "metadata": {
        "colab": {
          "base_uri": "https://localhost:8080/",
          "height": 496
        },
        "id": "qhaAbMgkuxzX",
        "outputId": "315f96e3-414d-4a4c-bc38-e329de397361"
      },
      "source": [
        "#a.ii : plot the histogram of eachfeature (i.e.,  3 total histograms).\n",
        "\n",
        "fig, axs = plt.subplots(1,3, figsize =(15, 7))\n",
        "fig.suptitle('Histogram of Features')\n",
        "\n",
        "feature_1 = axs[0].hist(data.loc[:,0], bins= 30)\n",
        "axs[0].set_title(\"Patient's age when surgery was done\")\n",
        "feature_2 = axs[1].hist(data.loc[:,1], bins= 30)\n",
        "axs[1].set_title('The year when surgery was done')\n",
        "feature_3 = axs[2].hist(data.loc[:,2], bins= 50)\n",
        "axs[2].set_title('Number of lymp nodes')"
      ],
      "execution_count": null,
      "outputs": [
        {
          "output_type": "execute_result",
          "data": {
            "text/plain": [
              "Text(0.5, 1.0, 'Number of lymp nodes')"
            ]
          },
          "metadata": {},
          "execution_count": 72
        },
        {
          "output_type": "display_data",
          "data": {
            "image/png": "[encoded data removed]",
            "text/plain": [
              "<Figure size 1080x504 with 3 Axes>"
            ]
          },
          "metadata": {
            "needs_background": "light"
          }
        }
      ]
    },
    {
      "cell_type": "markdown",
      "metadata": {
        "id": "mJ957IQx8J70"
      },
      "source": [
        "a.ii. \n",
        "1.  Age of patient at time of operation has multimodal distrubution\n",
        "2.  Patient’s year of operation has uniform/ unimodal??\n",
        "3.  Number of positive axillary lymph nodes detected has unimodal distribution"
      ]
    },
    {
      "cell_type": "code",
      "metadata": {
        "id": "QWW-hjwt8BOQ"
      },
      "source": [
        ""
      ],
      "execution_count": null,
      "outputs": []
    }
  ]
}